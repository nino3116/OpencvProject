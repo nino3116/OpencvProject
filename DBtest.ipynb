{
 "cells": [
  {
   "cell_type": "code",
   "execution_count": null,
   "metadata": {},
   "outputs": [
    {
     "name": "stdout",
     "output_type": "stream",
     "text": [
      "<pymysql.connections.Connection object at 0x0000017EDB695790>\n"
     ]
    }
   ],
   "source": [
    "import pymysql\n",
    "def dbconnect():\n",
    "    conn = pymysql.connect(host='192.168.0.139',user='test',password='test1234',db='project',charset='utf8')\n",
    "    return conn\n",
    "\n",
    "dbconnect()"
   ]
  },
  {
   "cell_type": "code",
   "execution_count": 5,
   "metadata": {},
   "outputs": [],
   "source": [
    "mysql_config ={\n",
    "    'host': '192.168.0.139',\n",
    "    'user':'test',\n",
    "    'password':'test1234',\n",
    "    'db':'project',\n",
    "    'charset':'utf8'\n",
    "}"
   ]
  },
  {
   "cell_type": "code",
   "execution_count": null,
   "metadata": {},
   "outputs": [
    {
     "name": "stdout",
     "output_type": "stream",
     "text": [
      "(('camera_list',), ('camera_logs',))\n"
     ]
    }
   ],
   "source": [
    "try:\n",
    "    conn = dbconnect()\n",
    "    cur = conn.cursor()\n",
    "\n",
    "    sql = \"\"\"select * from camera_list\"\"\"\n",
    "    cur.execute(sql)\n",
    "    rows = cur.fetchall()\n",
    "    conn.commit()\n",
    "    print(rows)\n",
    "except Exception as e:\n",
    "    print(\"오류 메시지: \",e)\n",
    "finally:\n",
    "    cur.close()\n",
    "    conn.close()"
   ]
  }
 ],
 "metadata": {
  "kernelspec": {
   "display_name": "venv (3.9.13)",
   "language": "python",
   "name": "python3"
  },
  "language_info": {
   "codemirror_mode": {
    "name": "ipython",
    "version": 3
   },
   "file_extension": ".py",
   "mimetype": "text/x-python",
   "name": "python",
   "nbconvert_exporter": "python",
   "pygments_lexer": "ipython3",
   "version": "3.9.13"
  }
 },
 "nbformat": 4,
 "nbformat_minor": 2
}
